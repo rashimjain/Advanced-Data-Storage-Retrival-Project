{
 "cells": [
  {
   "cell_type": "code",
   "execution_count": 19,
   "metadata": {},
   "outputs": [],
   "source": [
    "# Dependencies\n",
    "import sqlalchemy\n",
    "from sqlalchemy.ext.automap import automap_base\n",
    "from sqlalchemy.orm import Session\n",
    "from sqlalchemy import create_engine, inspect, func\n",
    "from sqlalchemy.sql import func\n",
    "import matplotlib.pyplot as plt\n",
    "import seaborn as sns\n",
    "import datetime\n",
    "from datetime import date, timedelta\n",
    "import datetime as dt\n",
    "import pandas as pd\n",
    "from pandas import DataFrame"
   ]
  },
  {
   "cell_type": "code",
   "execution_count": 20,
   "metadata": {},
   "outputs": [],
   "source": [
    "# Create engine & connection\n",
    "engine = create_engine(\"sqlite:///hawaii.sqlite\", echo=False)\n",
    "conn = engine.connect()"
   ]
  },
  {
   "cell_type": "code",
   "execution_count": 21,
   "metadata": {},
   "outputs": [
    {
     "data": {
      "text/plain": [
       "['measurement', 'station']"
      ]
     },
     "execution_count": 21,
     "metadata": {},
     "output_type": "execute_result"
    }
   ],
   "source": [
    "# Create automap\n",
    "Base = automap_base()\n",
    "Base.prepare(engine, reflect=True)\n",
    "Base.classes.keys()"
   ]
  },
  {
   "cell_type": "code",
   "execution_count": 23,
   "metadata": {},
   "outputs": [],
   "source": [
    "# Start a session to query the database\n",
    "session = Session(engine)"
   ]
  },
  {
   "cell_type": "code",
   "execution_count": 24,
   "metadata": {},
   "outputs": [
    {
     "data": {
      "text/plain": [
       "[(1, 'USC00519397', '2010-01-01', 0.08, 65.0),\n",
       " (2, 'USC00519397', '2010-01-02', 0.0, 63.0),\n",
       " (3, 'USC00519397', '2010-01-03', 0.0, 74.0),\n",
       " (4, 'USC00519397', '2010-01-04', 0.0, 76.0),\n",
       " (5, 'USC00519397', '2010-01-06', 0.0, 73.0),\n",
       " (6, 'USC00519397', '2010-01-07', 0.06, 70.0),\n",
       " (7, 'USC00519397', '2010-01-08', 0.0, 64.0),\n",
       " (8, 'USC00519397', '2010-01-09', 0.0, 68.0),\n",
       " (9, 'USC00519397', '2010-01-10', 0.0, 73.0),\n",
       " (10, 'USC00519397', '2010-01-11', 0.01, 64.0)]"
      ]
     },
     "execution_count": 24,
     "metadata": {},
     "output_type": "execute_result"
    }
   ],
   "source": [
    "# Use `engine.execute` to select and display the first 10 rows from the table\n",
    "\n",
    "engine.execute('SELECT * FROM measurement LIMIT 10').fetchall()"
   ]
  },
  {
   "cell_type": "code",
   "execution_count": 25,
   "metadata": {},
   "outputs": [],
   "source": [
    "# Reflect Database into ORM class# Refle \n",
    "Station = Base.classes.station\n",
    "Measurements = Base.classes.measurement"
   ]
  },
  {
   "cell_type": "markdown",
   "metadata": {},
   "source": [
    "# Precipitation Analysis"
   ]
  },
  {
   "cell_type": "code",
   "execution_count": 26,
   "metadata": {},
   "outputs": [
    {
     "name": "stdout",
     "output_type": "stream",
     "text": [
      "('2017-08-23',)\n"
     ]
    }
   ],
   "source": [
    "# Grabs the last date entry in the data table\n",
    "last_date = session.query(Measurements.date).order_by(Measurements.date.desc()).first()\n",
    "print(last_date)"
   ]
  },
  {
   "cell_type": "code",
   "execution_count": 27,
   "metadata": {},
   "outputs": [
    {
     "name": "stdout",
     "output_type": "stream",
     "text": [
      "2016-08-23\n"
     ]
    }
   ],
   "source": [
    "# to get the last 12 months of data, last date - 365\n",
    "last_year = dt.date(2017, 8, 23) - dt.timedelta(days=365)\n",
    "print(last_year)"
   ]
  },
  {
   "cell_type": "code",
   "execution_count": 28,
   "metadata": {},
   "outputs": [],
   "source": [
    "# query to pull the last year of precipitation data\n",
    "rain = session.query(Measurements.date, Measurements.prcp).\\\n",
    "    filter(Measurements.date > last_year).\\\n",
    "    order_by(Measurements.date).all()"
   ]
  },
  {
   "cell_type": "code",
   "execution_count": 39,
   "metadata": {},
   "outputs": [
    {
     "data": {
      "text/html": [
       "<div>\n",
       "<style scoped>\n",
       "    .dataframe tbody tr th:only-of-type {\n",
       "        vertical-align: middle;\n",
       "    }\n",
       "\n",
       "    .dataframe tbody tr th {\n",
       "        vertical-align: top;\n",
       "    }\n",
       "\n",
       "    .dataframe thead th {\n",
       "        text-align: right;\n",
       "    }\n",
       "</style>\n",
       "<table border=\"1\" class=\"dataframe\">\n",
       "  <thead>\n",
       "    <tr style=\"text-align: right;\">\n",
       "      <th></th>\n",
       "      <th>date</th>\n",
       "      <th>prcp</th>\n",
       "    </tr>\n",
       "  </thead>\n",
       "  <tbody>\n",
       "    <tr>\n",
       "      <th>0</th>\n",
       "      <td>2016-08-24</td>\n",
       "      <td>0.08</td>\n",
       "    </tr>\n",
       "    <tr>\n",
       "      <th>1</th>\n",
       "      <td>2016-08-24</td>\n",
       "      <td>2.15</td>\n",
       "    </tr>\n",
       "    <tr>\n",
       "      <th>2</th>\n",
       "      <td>2016-08-24</td>\n",
       "      <td>2.28</td>\n",
       "    </tr>\n",
       "    <tr>\n",
       "      <th>3</th>\n",
       "      <td>2016-08-24</td>\n",
       "      <td>0.00</td>\n",
       "    </tr>\n",
       "    <tr>\n",
       "      <th>4</th>\n",
       "      <td>2016-08-24</td>\n",
       "      <td>1.22</td>\n",
       "    </tr>\n",
       "  </tbody>\n",
       "</table>\n",
       "</div>"
      ],
      "text/plain": [
       "         date  prcp\n",
       "0  2016-08-24  0.08\n",
       "1  2016-08-24  2.15\n",
       "2  2016-08-24  2.28\n",
       "3  2016-08-24  0.00\n",
       "4  2016-08-24  1.22"
      ]
     },
     "execution_count": 39,
     "metadata": {},
     "output_type": "execute_result"
    }
   ],
   "source": [
    "# Load the data from the query into a dataframe\n",
    "\n",
    "rain_df = pd.DataFrame(rain)\n",
    "rain_df.head()"
   ]
  },
  {
   "cell_type": "code",
   "execution_count": 36,
   "metadata": {},
   "outputs": [
    {
     "data": {
      "text/html": [
       "<div>\n",
       "<style scoped>\n",
       "    .dataframe tbody tr th:only-of-type {\n",
       "        vertical-align: middle;\n",
       "    }\n",
       "\n",
       "    .dataframe tbody tr th {\n",
       "        vertical-align: top;\n",
       "    }\n",
       "\n",
       "    .dataframe thead th {\n",
       "        text-align: right;\n",
       "    }\n",
       "</style>\n",
       "<table border=\"1\" class=\"dataframe\">\n",
       "  <thead>\n",
       "    <tr style=\"text-align: right;\">\n",
       "      <th></th>\n",
       "      <th>prcp</th>\n",
       "    </tr>\n",
       "    <tr>\n",
       "      <th>date</th>\n",
       "      <th></th>\n",
       "    </tr>\n",
       "  </thead>\n",
       "  <tbody>\n",
       "    <tr>\n",
       "      <th>2016-08-24</th>\n",
       "      <td>0.08</td>\n",
       "    </tr>\n",
       "    <tr>\n",
       "      <th>2016-08-24</th>\n",
       "      <td>2.15</td>\n",
       "    </tr>\n",
       "    <tr>\n",
       "      <th>2016-08-24</th>\n",
       "      <td>2.28</td>\n",
       "    </tr>\n",
       "    <tr>\n",
       "      <th>2016-08-24</th>\n",
       "      <td>0.00</td>\n",
       "    </tr>\n",
       "    <tr>\n",
       "      <th>2016-08-24</th>\n",
       "      <td>1.22</td>\n",
       "    </tr>\n",
       "  </tbody>\n",
       "</table>\n",
       "</div>"
      ],
      "text/plain": [
       "            prcp\n",
       "date            \n",
       "2016-08-24  0.08\n",
       "2016-08-24  2.15\n",
       "2016-08-24  2.28\n",
       "2016-08-24  0.00\n",
       "2016-08-24  1.22"
      ]
     },
     "execution_count": 36,
     "metadata": {},
     "output_type": "execute_result"
    }
   ],
   "source": [
    "# reset the index to the date\n",
    "\n",
    "# rain_df.set_index('date').head()"
   ]
  },
  {
   "cell_type": "code",
   "execution_count": 40,
   "metadata": {},
   "outputs": [
    {
     "data": {
      "image/png": "[encoded data removed]",
      "text/plain": [
       "<matplotlib.figure.Figure at 0x1a20204f60>"
      ]
     },
     "metadata": {},
     "output_type": "display_data"
    }
   ],
   "source": [
    "# plot the dataframe\n",
    "rain_df.plot('date', 'prcp')\n",
    "# ax.bar(rain_df.index.get_values(),color='b',align='center', label=\"Precipitation\")\n",
    "plt.xlabel(\"Date\")\n",
    "plt.ylabel(\"Rain in Inches\")\n",
    "plt.title(\"Precipitation Analysis in Last 12 months\")\n",
    "plt.legend([\"Precipitation\"])\n",
    "plt.xticks(rotation=45)\n",
    "plt.tight_layout()\n",
    "\n",
    "plt.savefig('images/Hawaii Precipitation in the Last 12 months.png')\n",
    "plt.show()"
   ]
  },
  {
   "cell_type": "code",
   "execution_count": 32,
   "metadata": {},
   "outputs": [
    {
     "data": {
      "text/html": [
       "<div>\n",
       "<style scoped>\n",
       "    .dataframe tbody tr th:only-of-type {\n",
       "        vertical-align: middle;\n",
       "    }\n",
       "\n",
       "    .dataframe tbody tr th {\n",
       "        vertical-align: top;\n",
       "    }\n",
       "\n",
       "    .dataframe thead th {\n",
       "        text-align: right;\n",
       "    }\n",
       "</style>\n",
       "<table border=\"1\" class=\"dataframe\">\n",
       "  <thead>\n",
       "    <tr style=\"text-align: right;\">\n",
       "      <th></th>\n",
       "      <th>prcp</th>\n",
       "    </tr>\n",
       "  </thead>\n",
       "  <tbody>\n",
       "    <tr>\n",
       "      <th>count</th>\n",
       "      <td>4446.000000</td>\n",
       "    </tr>\n",
       "    <tr>\n",
       "      <th>mean</th>\n",
       "      <td>0.159951</td>\n",
       "    </tr>\n",
       "    <tr>\n",
       "      <th>std</th>\n",
       "      <td>0.441170</td>\n",
       "    </tr>\n",
       "    <tr>\n",
       "      <th>min</th>\n",
       "      <td>0.000000</td>\n",
       "    </tr>\n",
       "    <tr>\n",
       "      <th>25%</th>\n",
       "      <td>0.000000</td>\n",
       "    </tr>\n",
       "    <tr>\n",
       "      <th>50%</th>\n",
       "      <td>0.010000</td>\n",
       "    </tr>\n",
       "    <tr>\n",
       "      <th>75%</th>\n",
       "      <td>0.110000</td>\n",
       "    </tr>\n",
       "    <tr>\n",
       "      <th>max</th>\n",
       "      <td>6.700000</td>\n",
       "    </tr>\n",
       "  </tbody>\n",
       "</table>\n",
       "</div>"
      ],
      "text/plain": [
       "              prcp\n",
       "count  4446.000000\n",
       "mean      0.159951\n",
       "std       0.441170\n",
       "min       0.000000\n",
       "25%       0.000000\n",
       "50%       0.010000\n",
       "75%       0.110000\n",
       "max       6.700000"
      ]
     },
     "execution_count": 32,
     "metadata": {},
     "output_type": "execute_result"
    }
   ],
   "source": [
    "# Use Pandas to print the summary statistics for the precipitation data.\n",
    "rain_df.describe()"
   ]
  },
  {
   "cell_type": "markdown",
   "metadata": {},
   "source": [
    "# Station Analysis"
   ]
  },
  {
   "cell_type": "code",
   "execution_count": 41,
   "metadata": {},
   "outputs": [
    {
     "name": "stdout",
     "output_type": "stream",
     "text": [
      "There are 9 stations.\n"
     ]
    }
   ],
   "source": [
    "\n",
    "# Count the number of stations in the Measurement table# Count  \n",
    "locations = session.query(Measurements).group_by(Measurements.station).count()\n",
    "print(\"There are {} stations.\".format(locations))"
   ]
  },
  {
   "cell_type": "code",
   "execution_count": 42,
   "metadata": {},
   "outputs": [
    {
     "name": "stdout",
     "output_type": "stream",
     "text": [
      "The busiest Station was USC00519281 with 5544 weather observations.\n",
      "\n",
      "Here are all of the Stations (in descending order) with their number of observations:\n",
      "Station USC00519281 had 5544 weather observations.\n",
      "Station USC00519397 had 5448 weather observations.\n",
      "Station USC00513117 had 5418 weather observations.\n",
      "Station USC00519523 had 5338 weather observations.\n",
      "Station USC00516128 had 5224 weather observations.\n",
      "Station USC00514830 had 4404 weather observations.\n",
      "Station USC00511918 had 3958 weather observations.\n",
      "Station USC00517948 had 2744 weather observations.\n",
      "Station USC00518838 had 1022 weather observations.\n"
     ]
    }
   ],
   "source": [
    "# find the station with the most temperature observations, then list them all in descending order\n",
    "busy_station = session.query(Measurements.station, func.count(Measurements.tobs)).group_by(Measurements.station).\\\n",
    "               order_by(func.count(Measurements.tobs).desc()).all()\n",
    "\n",
    "busiest = busy_station[0][0]    \n",
    "print(\"The busiest Station was\",busiest,\"with\",busy_station[0][1],\"weather observations.\")\n",
    "print()\n",
    "print(\"Here are all of the Stations (in descending order) with their number of observations:\")\n",
    "for station, count in busy_station:\n",
    "    print(\"Station\",station,\"had\",count, \"weather observations.\")"
   ]
  },
  {
   "cell_type": "code",
   "execution_count": 44,
   "metadata": {},
   "outputs": [],
   "source": [
    "# query to pull the last year of precipitation data for the busiest station\n",
    "temperature = session.query(Measurements.station, Measurements.date, Measurements.tobs).\\\n",
    "    filter(Measurements.station == busiest).\\\n",
    "    filter(Measurements.date > last_year).\\\n",
    "    order_by(Measurements.date).all()"
   ]
  },
  {
   "cell_type": "code",
   "execution_count": 48,
   "metadata": {},
   "outputs": [
    {
     "data": {
      "image/png": "[encoded data removed]",
      "text/plain": [
       "<matplotlib.figure.Figure at 0x1a203a7ba8>"
      ]
     },
     "metadata": {},
     "output_type": "display_data"
    }
   ],
   "source": [
    "# plot the temperature data in a histogram with 12 bins\n",
    "temp_df=pd.DataFrame(temperature)\n",
    "plt.hist(temp_df['tobs'],12)\n",
    "plt.xlabel(\"Recorded Temperature\")\n",
    "plt.ylabel(\"Number of Recorded Observations\")\n",
    "plt.title(\"Station Analysis for 12 months for Station \" + busiest)\n",
    "\n",
    "plt.savefig('images/Histogram of Temperature.png')\n",
    "plt.show()"
   ]
  },
  {
   "cell_type": "markdown",
   "metadata": {},
   "source": [
    "# Temparature Analysis"
   ]
  },
  {
   "cell_type": "code",
   "execution_count": 49,
   "metadata": {},
   "outputs": [
    {
     "name": "stdout",
     "output_type": "stream",
     "text": [
      "[(62.0, 69.57142857142857, 74.0)]\n"
     ]
    }
   ],
   "source": [
    "# Write a function called `calc_temps` that will accept start date and end date in the format '%Y-%m-%d' \n",
    "# and return the minimum, average, and maximum temperatures for that range of dates\n",
    "def calc_temps(start_date, end_date):\n",
    "    \"\"\"TMIN, TAVG, and TMAX for a list of dates.\n",
    "    \n",
    "    Args:\n",
    "        start_date (string): A date string in the format %Y-%m-%d\n",
    "        end_date (string): A date string in the format %Y-%m-%d\n",
    "        \n",
    "    Returns:\n",
    "        TMIN, TAVE, and TMAX\n",
    "    \"\"\"\n",
    "    \n",
    "    return session.query(func.min(Measurements.tobs), func.avg(Measurements.tobs), func.max(Measurements.tobs)).\\\n",
    "        filter(Measurements.date >= start_date).filter(Measurements.date <= end_date).all()\n",
    "temp_range = (calc_temps('2012-02-28', '2012-03-05'))\n",
    "print(temp_range)"
   ]
  },
  {
   "cell_type": "code",
   "execution_count": 50,
   "metadata": {},
   "outputs": [
    {
     "name": "stdout",
     "output_type": "stream",
     "text": [
      "[(67.0, 74.47368421052632, 82.0)]\n"
     ]
    }
   ],
   "source": [
    "# calculate the min/max/avg from last year that matches my trip date\n",
    "trip_arrive = dt.date(2018, 4, 1)\n",
    "trip_leave = dt.date(2018, 4, 15)\n",
    "last_year = dt.timedelta(days=365)\n",
    "temp_avg_lst_year = (calc_temps((trip_arrive-last_year), (trip_leave-last_year)))\n",
    "print(temp_avg_lst_year)"
   ]
  },
  {
   "cell_type": "code",
   "execution_count": 52,
   "metadata": {},
   "outputs": [
    {
     "data": {
      "image/png": "[encoded data removed]",
      "text/plain": [
       "<matplotlib.figure.Figure at 0x1a20376ef0>"
      ]
     },
     "metadata": {},
     "output_type": "display_data"
    }
   ],
   "source": [
    "# plot the calculated min/max/avg from last year for the trip dates as a bar chart\n",
    "\n",
    "p2p = temp_avg_lst_year[0][2]-temp_avg_lst_year[0][0]\n",
    "avgtemp = temp_avg_lst_year[0][1]\n",
    "min_temp = temp_avg_lst_year[0][0]\n",
    "max_temp = temp_avg_lst_year[0][2]\n",
    "\n",
    "fig, ax = plt.subplots()\n",
    "bar_chart = ax.bar(1 , avgtemp, color= 'orange', yerr=p2p)\n",
    "ax.set_xlabel(\"Trip\")\n",
    "ax.set_ylabel(\"Temperature\")\n",
    "ax.set_title(\"Trip Average Temperature From Prior Year\")\n",
    "\n",
    "def autolabels(rects):\n",
    "    for rect in rects:\n",
    "        h=rect.get_height()\n",
    "        ax.text(rect.get_x() + rect.get_width()/2., .6*h,'%.2f' % float(h) ,ha='center', va='bottom', fontsize=10)\n",
    "\n",
    "        \n",
    "    # label the bars \n",
    "autolabels(bar_chart)        \n",
    "plt.ylim(0, 100)\n",
    "plt.xlim(0,2)\n",
    "plt.tight_layout()\n",
    "\n",
    "plt.savefig(\"images/Temperature_analysis.png\")\n",
    "plt.show()"
   ]
  },
  {
   "cell_type": "markdown",
   "metadata": {},
   "source": [
    "# Optional Recommended Analysis\n"
   ]
  },
  {
   "cell_type": "code",
   "execution_count": 56,
   "metadata": {},
   "outputs": [
    {
     "data": {
      "text/plain": [
       "[('USC00513117', 730),\n",
       " ('USC00514830', 608),\n",
       " ('USC00516128', 700),\n",
       " ('USC00517948', 394),\n",
       " ('USC00519281', 730),\n",
       " ('USC00519397', 726),\n",
       " ('USC00519523', 682)]"
      ]
     },
     "execution_count": 56,
     "metadata": {},
     "output_type": "execute_result"
    }
   ],
   "source": [
    "\n",
    "Rainfall_results  = session.query(Measurements.station, func.count(Measurements.prcp)).\\\n",
    "                   group_by(Measurements.station).filter(Measurements.date.between('2016-08-01', '2017-08-01')).all()\n",
    "Rainfall_results"
   ]
  },
  {
   "cell_type": "code",
   "execution_count": 57,
   "metadata": {},
   "outputs": [
    {
     "name": "stdout",
     "output_type": "stream",
     "text": [
      "1\n",
      "2\n",
      "3\n",
      "4\n",
      "5\n",
      "6\n",
      "7\n",
      "8\n",
      "9\n",
      "10\n",
      "11\n",
      "12\n",
      "13\n",
      "14\n",
      "15\n"
     ]
    }
   ],
   "source": [
    "for i in range(1,16):\n",
    "    print(i)"
   ]
  },
  {
   "cell_type": "code",
   "execution_count": 59,
   "metadata": {},
   "outputs": [
    {
     "data": {
      "text/plain": [
       "[('2010-08-15'),\n",
       " ('2011-08-15'),\n",
       " ('2012-08-15'),\n",
       " ('2013-08-15'),\n",
       " ('2014-08-15'),\n",
       " ('2015-08-15'),\n",
       " ('2016-08-15'),\n",
       " ('2017-08-15')]"
      ]
     },
     "execution_count": 59,
     "metadata": {},
     "output_type": "execute_result"
    }
   ],
   "source": [
    "\n",
    "from  sqlalchemy  import extract  \n",
    "trip_month=8\n",
    "trip_days=range(1, 16)\n",
    "for i in range(1, 16):\n",
    "    subquery=session.query(Measurements.date).filter(extract('month', Measurements.date)==trip_month).\\\n",
    "             filter(extract('day', Measurements.date)== i ).group_by(Measurements.date).order_by(Measurements.date).all()\n",
    "subquery"
   ]
  },
  {
   "cell_type": "code",
   "execution_count": 60,
   "metadata": {},
   "outputs": [
    {
     "name": "stdout",
     "output_type": "stream",
     "text": [
      "('2010-08-01', 77.0, 71.0, 73.42857142857143)\n",
      "('2011-08-01', 78.0, 67.0, 73.375)\n",
      "('2012-08-01', 79.0, 71.0, 75.85714285714286)\n",
      "('2013-08-01', 79.0, 75.0, 76.83333333333333)\n",
      "('2014-08-01', 83.0, 73.0, 77.42857142857143)\n",
      "('2015-08-01', 79.0, 73.0, 77.4)\n",
      "('2016-08-01', 78.0, 73.0, 76.16666666666667)\n",
      "('2017-08-01', 77.0, 72.0, 74.5)\n",
      "('2010-08-02', 76.0, 70.0, 73.22222222222223)\n",
      "('2011-08-02', 77.0, 70.0, 73.625)\n",
      "('2012-08-02', 78.0, 68.0, 73.5)\n",
      "('2013-08-02', 78.0, 70.0, 74.57142857142857)\n",
      "('2014-08-02', 81.0, 73.0, 77.71428571428571)\n",
      "('2015-08-02', 84.0, 76.0, 80.0)\n",
      "('2016-08-02', 80.0, 72.0, 76.57142857142857)\n",
      "('2017-08-02', 83.0, 73.0, 79.0)\n",
      "('2010-08-03', 77.0, 70.0, 73.11111111111111)\n",
      "('2011-08-03', 78.0, 71.0, 75.25)\n",
      "('2012-08-03', 78.0, 72.0, 74.57142857142857)\n",
      "('2013-08-03', 79.0, 72.0, 76.66666666666667)\n",
      "('2014-08-03', 83.0, 74.0, 78.33333333333333)\n",
      "('2015-08-03', 85.0, 75.0, 80.0)\n",
      "('2016-08-03', 82.0, 74.0, 78.42857142857143)\n",
      "('2017-08-03', 81.0, 76.0, 79.0)\n",
      "('2010-08-04', 77.0, 69.0, 73.44444444444444)\n",
      "('2011-08-04', 77.0, 74.0, 75.625)\n",
      "('2012-08-04', 80.0, 72.0, 76.33333333333333)\n",
      "('2013-08-04', 79.0, 69.0, 76.66666666666667)\n",
      "('2014-08-04', 83.0, 74.0, 79.33333333333333)\n",
      "('2015-08-04', 84.0, 69.0, 77.28571428571429)\n",
      "('2016-08-04', 81.0, 74.0, 78.0)\n",
      "('2017-08-04', 82.0, 77.0, 80.0)\n",
      "('2010-08-05', 75.0, 69.0, 71.77777777777777)\n",
      "('2011-08-05', 79.0, 73.0, 76.375)\n",
      "('2012-08-05', 82.0, 70.0, 76.5)\n",
      "('2013-08-05', 79.0, 69.0, 74.875)\n",
      "('2014-08-05', 80.0, 74.0, 77.0)\n",
      "('2015-08-05', 82.0, 74.0, 78.14285714285714)\n",
      "('2016-08-05', 81.0, 75.0, 78.5)\n",
      "('2017-08-05', 82.0, 77.0, 80.0)\n",
      "('2010-08-06', 77.0, 70.0, 74.44444444444444)\n",
      "('2011-08-06', 78.0, 72.0, 75.16666666666667)\n",
      "('2012-08-06', 80.0, 67.0, 74.0)\n",
      "('2013-08-06', 80.0, 74.0, 76.625)\n",
      "('2014-08-06', 78.0, 71.0, 75.28571428571429)\n",
      "('2015-08-06', 81.0, 74.0, 77.28571428571429)\n",
      "('2016-08-06', 80.0, 76.0, 78.16666666666667)\n",
      "('2017-08-06', 83.0, 79.0, 81.4)\n",
      "('2010-08-07', 80.0, 72.0, 75.625)\n",
      "('2011-08-07', 79.0, 76.0, 77.57142857142857)\n",
      "('2012-08-07', 77.0, 71.0, 74.33333333333333)\n",
      "('2013-08-07', 81.0, 72.0, 76.625)\n",
      "('2014-08-07', 81.0, 74.0, 77.5)\n",
      "('2015-08-07', 82.0, 73.0, 78.0)\n",
      "('2016-08-07', 83.0, 77.0, 78.83333333333333)\n",
      "('2017-08-07', 83.0, 78.0, 80.5)\n",
      "('2010-08-08', 78.0, 71.0, 74.57142857142857)\n",
      "('2011-08-08', 78.0, 70.0, 75.75)\n",
      "('2012-08-08', 78.0, 71.0, 74.0)\n",
      "('2013-08-08', 81.0, 68.0, 74.625)\n",
      "('2014-08-08', 82.0, 73.0, 77.71428571428571)\n",
      "('2015-08-08', 82.0, 76.0, 79.4)\n",
      "('2016-08-08', 83.0, 75.0, 79.57142857142857)\n",
      "('2017-08-08', 82.0, 74.0, 78.5)\n",
      "('2010-08-09', 79.0, 72.0, 75.22222222222223)\n",
      "('2011-08-09', 79.0, 71.0, 75.42857142857143)\n",
      "('2012-08-09', 78.0, 69.0, 74.66666666666667)\n",
      "('2013-08-09', 80.0, 70.0, 74.75)\n",
      "('2014-08-09', 81.0, 73.0, 76.85714285714286)\n",
      "('2015-08-09', 79.0, 73.0, 75.75)\n",
      "('2016-08-09', 81.0, 73.0, 78.71428571428571)\n",
      "('2017-08-09', 81.0, 71.0, 77.33333333333333)\n",
      "('2010-08-10', 83.0, 72.0, 76.22222222222223)\n",
      "('2011-08-10', 79.0, 71.0, 75.0)\n",
      "('2012-08-10', 76.0, 65.0, 72.66666666666667)\n",
      "('2013-08-10', 76.0, 71.0, 73.33333333333333)\n",
      "('2014-08-10', 82.0, 73.0, 77.2)\n",
      "('2015-08-10', 81.0, 75.0, 78.33333333333333)\n",
      "('2016-08-10', 82.0, 76.0, 80.14285714285714)\n",
      "('2017-08-10', 81.0, 75.0, 79.25)\n",
      "('2010-08-11', 77.0, 69.0, 73.22222222222223)\n",
      "('2011-08-11', 80.0, 73.0, 76.14285714285714)\n",
      "('2012-08-11', 78.0, 67.0, 73.33333333333333)\n",
      "('2013-08-11', 82.0, 72.0, 77.33333333333333)\n",
      "('2014-08-11', 81.0, 68.0, 74.14285714285714)\n",
      "('2015-08-11', 82.0, 73.0, 78.57142857142857)\n",
      "('2016-08-11', 80.0, 74.0, 78.57142857142857)\n",
      "('2017-08-11', 81.0, 72.0, 78.0)\n",
      "('2010-08-12', 77.0, 71.0, 74.875)\n",
      "('2011-08-12', 78.0, 67.0, 74.75)\n",
      "('2012-08-12', 81.0, 69.0, 76.16666666666667)\n",
      "('2013-08-12', 79.0, 74.0, 76.625)\n",
      "('2014-08-12', 81.0, 70.0, 76.0)\n",
      "('2015-08-12', 83.0, 76.0, 80.0)\n",
      "('2016-08-12', 81.0, 71.0, 76.71428571428571)\n",
      "('2017-08-12', 83.0, 74.0, 79.0)\n",
      "('2010-08-13', 80.0, 71.0, 75.77777777777777)\n",
      "('2011-08-13', 78.0, 73.0, 75.71428571428571)\n",
      "('2012-08-13', 81.0, 73.0, 76.28571428571429)\n",
      "('2013-08-13', 79.0, 73.0, 75.57142857142857)\n",
      "('2014-08-13', 81.0, 71.0, 75.875)\n",
      "('2015-08-13', 83.0, 75.0, 78.625)\n",
      "('2016-08-13', 83.0, 74.0, 79.0)\n",
      "('2017-08-13', 84.0, 77.0, 80.6)\n",
      "('2010-08-14', 78.0, 71.0, 76.14285714285714)\n",
      "('2011-08-14', 80.0, 74.0, 77.0)\n",
      "('2012-08-14', 77.0, 72.0, 74.0)\n",
      "('2013-08-14', 79.0, 73.0, 76.5)\n",
      "('2014-08-14', 80.0, 71.0, 77.0)\n",
      "('2015-08-14', 82.0, 74.0, 78.5)\n",
      "('2016-08-14', 82.0, 72.0, 77.2)\n",
      "('2017-08-14', 81.0, 75.0, 78.2)\n",
      "('2010-08-15', 79.0, 72.0, 75.57142857142857)\n",
      "('2011-08-15', 80.0, 74.0, 76.25)\n",
      "('2012-08-15', 79.0, 73.0, 75.57142857142857)\n",
      "('2013-08-15', 79.0, 69.0, 75.33333333333333)\n",
      "('2014-08-15', 80.0, 70.0, 75.42857142857143)\n",
      "('2015-08-15', 83.0, 73.0, 79.16666666666667)\n",
      "('2016-08-15', 81.0, 72.0, 77.71428571428571)\n",
      "('2017-08-15', 82.0, 70.0, 77.2)\n"
     ]
    }
   ],
   "source": [
    "dates=[]\n",
    "daily_normals_Three_AVG=[]\n",
    "daily_normals_TMAX=[]\n",
    "daily_normals_TMIN=[]\n",
    "daily_normals_TAVG=[]\n",
    "\n",
    "trip_month=8\n",
    "trip_days=range(1, 16)\n",
    "\n",
    "def daily_normals():\n",
    "    \n",
    "    for i in range(1,16):\n",
    "        results=session.query(Measurements.date.label(\"dates\"), func.max(Measurements.tobs).label(\"max_tobs\"),\\\n",
    "                             func.min(Measurements.tobs).label(\"min_tobs\"),func.avg(Measurements.tobs).label(\"avg_tobs\")).\\\n",
    "                             filter(extract('month', Measurements.date)==trip_month).\\\n",
    "                             filter(extract('day', Measurements.date)== i ).group_by(Measurements.date).order_by(Measurements.date)\n",
    "        results\n",
    "        for res in results.all():\n",
    "             print( res)\n",
    "        \n",
    "        res\n",
    "        TMAX = res.max_tobs\n",
    "        TMIN= res.min_tobs\n",
    "        TAVG= res.avg_tobs\n",
    "        Date= res.dates\n",
    "        \n",
    "        data = [TMAX, TMIN, TAVG]\n",
    "        #avg = [float(sum(col))/len(col) for col in zip(*data)]\n",
    "\n",
    "        dates.append(Date)\n",
    "        #daily_normals_Three_AVG.append(avg)\n",
    "        daily_normals_TMAX.append(TMAX)\n",
    "        daily_normals_TMIN.append(TMIN)\n",
    "        daily_normals_TAVG.append(TAVG)\n",
    "        \n",
    "daily_normals()\n"
   ]
  },
  {
   "cell_type": "code",
   "execution_count": 61,
   "metadata": {},
   "outputs": [
    {
     "data": {
      "text/html": [
       "<div>\n",
       "<style scoped>\n",
       "    .dataframe tbody tr th:only-of-type {\n",
       "        vertical-align: middle;\n",
       "    }\n",
       "\n",
       "    .dataframe tbody tr th {\n",
       "        vertical-align: top;\n",
       "    }\n",
       "\n",
       "    .dataframe thead th {\n",
       "        text-align: right;\n",
       "    }\n",
       "</style>\n",
       "<table border=\"1\" class=\"dataframe\">\n",
       "  <thead>\n",
       "    <tr style=\"text-align: right;\">\n",
       "      <th></th>\n",
       "      <th>TAVG</th>\n",
       "      <th>TMAX</th>\n",
       "      <th>TMIN</th>\n",
       "    </tr>\n",
       "    <tr>\n",
       "      <th>Date</th>\n",
       "      <th></th>\n",
       "      <th></th>\n",
       "      <th></th>\n",
       "    </tr>\n",
       "  </thead>\n",
       "  <tbody>\n",
       "    <tr>\n",
       "      <th>2017-08-01</th>\n",
       "      <td>74.5</td>\n",
       "      <td>77.0</td>\n",
       "      <td>72.0</td>\n",
       "    </tr>\n",
       "    <tr>\n",
       "      <th>2017-08-02</th>\n",
       "      <td>79.0</td>\n",
       "      <td>83.0</td>\n",
       "      <td>73.0</td>\n",
       "    </tr>\n",
       "    <tr>\n",
       "      <th>2017-08-03</th>\n",
       "      <td>79.0</td>\n",
       "      <td>81.0</td>\n",
       "      <td>76.0</td>\n",
       "    </tr>\n",
       "    <tr>\n",
       "      <th>2017-08-04</th>\n",
       "      <td>80.0</td>\n",
       "      <td>82.0</td>\n",
       "      <td>77.0</td>\n",
       "    </tr>\n",
       "    <tr>\n",
       "      <th>2017-08-05</th>\n",
       "      <td>80.0</td>\n",
       "      <td>82.0</td>\n",
       "      <td>77.0</td>\n",
       "    </tr>\n",
       "  </tbody>\n",
       "</table>\n",
       "</div>"
      ],
      "text/plain": [
       "            TAVG  TMAX  TMIN\n",
       "Date                        \n",
       "2017-08-01  74.5  77.0  72.0\n",
       "2017-08-02  79.0  83.0  73.0\n",
       "2017-08-03  79.0  81.0  76.0\n",
       "2017-08-04  80.0  82.0  77.0\n",
       "2017-08-05  80.0  82.0  77.0"
      ]
     },
     "execution_count": 61,
     "metadata": {},
     "output_type": "execute_result"
    }
   ],
   "source": [
    "Daily_normals_df= pd.DataFrame({'Date': dates, 'TMAX': daily_normals_TMAX, 'TMIN': daily_normals_TMIN,'TAVG': daily_normals_TAVG,})\n",
    "Daily_normals_df.set_index('Date', inplace=True, )\n",
    "Daily_normals_df.head()"
   ]
  },
  {
   "cell_type": "code",
   "execution_count": 64,
   "metadata": {},
   "outputs": [
    {
     "data": {
      "text/plain": [
       "<matplotlib.figure.Figure at 0x115c93cf8>"
      ]
     },
     "metadata": {},
     "output_type": "display_data"
    },
    {
     "data": {
      "image/png": "[encoded data removed]",
      "text/plain": [
       "<matplotlib.figure.Figure at 0x1a20980358>"
      ]
     },
     "metadata": {},
     "output_type": "display_data"
    }
   ],
   "source": [
    "fig = plt.figure(figsize=(9, 11))\n",
    "ax = Daily_normals_df.plot(kind='area', stacked=False, title='Daily normals of Temperature in Hawaii')\n",
    "ax.set_xlabel('Date')\n",
    "plt.tight_layout()\n",
    "plt.savefig('images/Daily normals of Temperature in Hawaii.png', bbox_inches = 'tight')\n",
    "plt.show()"
   ]
  },
  {
   "cell_type": "code",
   "execution_count": null,
   "metadata": {},
   "outputs": [],
   "source": []
  }
 ],
 "metadata": {
  "kernelspec": {
   "display_name": "Python 3",
   "language": "python",
   "name": "python3"
  },
  "language_info": {
   "codemirror_mode": {
    "name": "ipython",
    "version": 3
   },
   "file_extension": ".py",
   "mimetype": "text/x-python",
   "name": "python",
   "nbconvert_exporter": "python",
   "pygments_lexer": "ipython3",
   "version": "3.6.4"
  }
 },
 "nbformat": 4,
 "nbformat_minor": 2
}
